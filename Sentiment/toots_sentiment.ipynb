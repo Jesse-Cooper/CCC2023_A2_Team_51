{
 "cells": [
  {
   "cell_type": "code",
   "execution_count": 7,
   "id": "1811b8c6-8a2b-41c3-9e63-13334bc516b2",
   "metadata": {},
   "outputs": [],
   "source": [
    "with open('toots.txt', 'r', encoding = 'utf8') as file:\n",
    "    file_content = file.read()"
   ]
  },
  {
   "cell_type": "code",
   "execution_count": 9,
   "id": "39decb7d-e48c-4f93-8b55-099b6538887c",
   "metadata": {},
   "outputs": [],
   "source": [
    "#remove non english characters\n",
    "import regex as re\n",
    "english_text = re.sub(r'[^\\x00-\\x7F]+', '', file_content)"
   ]
  },
  {
   "cell_type": "code",
   "execution_count": 13,
   "id": "ace1a91f-5819-4371-ac60-4a44e8a64f07",
   "metadata": {},
   "outputs": [],
   "source": [
    "#sentiment\n",
    "#from nltk.tokenize import word_tokenize\n",
    "#from nltk.sentiment.vader import SentimentIntensityAnalyzer\n",
    "def get_sentiment_score(toots):\n",
    "    analyzer = SentimentIntensityAnalyzer()\n",
    "    tokens = word_tokenize(toots)\n",
    "    scores = analyzer.polarity_scores(toots)\n",
    "    sentiment_score = scores['compound']\n",
    "    return sentiment_score"
   ]
  },
  {
   "cell_type": "code",
   "execution_count": 15,
   "id": "5fd7a7a6-52d5-4b9d-a3da-97ba0e6f5dbb",
   "metadata": {},
   "outputs": [],
   "source": [
    "#get_sentiment_score(english_text)"
   ]
  }
 ],
 "metadata": {
  "kernelspec": {
   "display_name": "Python 3 (ipykernel)",
   "language": "python",
   "name": "python3"
  },
  "language_info": {
   "codemirror_mode": {
    "name": "ipython",
    "version": 3
   },
   "file_extension": ".py",
   "mimetype": "text/x-python",
   "name": "python",
   "nbconvert_exporter": "python",
   "pygments_lexer": "ipython3",
   "version": "3.9.7"
  }
 },
 "nbformat": 4,
 "nbformat_minor": 5
}
